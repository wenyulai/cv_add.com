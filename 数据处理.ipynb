{
 "cells": [
  {
   "cell_type": "markdown",
   "metadata": {},
   "source": [
    "### Problem 1"
   ]
  },
  {
   "cell_type": "code",
   "execution_count": 37,
   "metadata": {
    "collapsed": true
   },
   "outputs": [],
   "source": [
    "def fib(max):\n",
    "    n, a, b = 0, 0, 1\n",
    "    while n < max:\n",
    "        # print(b)\n",
    "        yield b\n",
    "\n",
    "        a, b = b, a + b\n",
    "        #a, b = b, a + b相当于a=b,b=a+b\n",
    "\n",
    "        n = n + 1\n",
    "    return 'done'"
   ]
  },
  {
   "cell_type": "code",
   "execution_count": 38,
   "metadata": {},
   "outputs": [
    {
     "name": "stdout",
     "output_type": "stream",
     "text": [
      "[1, 1, 2, 3, 5, 8, 13]\n"
     ]
    }
   ],
   "source": [
    "fib_1 = list(fib(7))\n",
    "print (fib_1)"
   ]
  },
  {
   "cell_type": "code",
   "execution_count": 39,
   "metadata": {},
   "outputs": [
    {
     "name": "stdout",
     "output_type": "stream",
     "text": [
      "[ 1.          0.5         0.66666667  0.6         0.625       0.61538462]\n"
     ]
    }
   ],
   "source": [
    "import numpy as np\n",
    "a1=np.array(fib_1)\n",
    "a1_1 =a1[1:]\n",
    "a1_2 = a1[0:-1]/a1_1\n",
    "print (a1_2)"
   ]
  },
  {
   "cell_type": "markdown",
   "metadata": {},
   "source": [
    "### Problem2 Pandas与Numpy操作"
   ]
  },
  {
   "cell_type": "markdown",
   "metadata": {},
   "source": [
    "##### 2_1  读取sz50.xlsx的['600036.XSHG','600050.XSHG','601318.XSHG']的全数据做成Panel"
   ]
  },
  {
   "cell_type": "code",
   "execution_count": 40,
   "metadata": {},
   "outputs": [
    {
     "data": {
      "text/plain": [
       "<class 'pandas.core.panel.Panel'>\n",
       "Dimensions: 3 (items) x 215 (major_axis) x 5 (minor_axis)\n",
       "Items axis: 600036.XSHG to 601318.XSHG\n",
       "Major_axis axis: 2017-01-03 15:00:00 to 2017-11-20 15:00:00\n",
       "Minor_axis axis: close to volume"
      ]
     },
     "execution_count": 40,
     "metadata": {},
     "output_type": "execute_result"
    }
   ],
   "source": [
    "from datetime import datetime\n",
    "import pandas as pd\n",
    "symbol =['600036.XSHG','600050.XSHG','601318.XSHG']\n",
    "data_dict ={}\n",
    "for s in symbol:\n",
    " data = pd.read_excel('sz50.xlsx',sheetname=s,index_col = 'datetime')\n",
    " # data_dict[s] =data.loc['2017-03-21':'2017-05-10']\n",
    " data_dict[s] = data\n",
    "pa = pd.Panel(data_dict)\n",
    "pan = pa.to_frame()\n",
    "# print(round((pan.head()),1)\n",
    "pa"
   ]
  },
  {
   "cell_type": "markdown",
   "metadata": {},
   "source": [
    "#### 2_2 把Panel转成ndim为3的Numpy，然后用array的切片读取ndim为2的三只股票最近20天的收盘价"
   ]
  },
  {
   "cell_type": "code",
   "execution_count": 41,
   "metadata": {},
   "outputs": [
    {
     "data": {
      "text/plain": [
       "array([[  7.98900000e+01,   8.06500000e+01,   7.91100000e+01,\n",
       "          7.91500000e+01,   2.96870990e+07],\n",
       "       [  7.98700000e+01,   8.01600000e+01,   7.95300000e+01,\n",
       "          7.99400000e+01,   2.52573050e+07],\n",
       "       [  8.00200000e+01,   8.05000000e+01,   7.99100000e+01,\n",
       "          8.00200000e+01,   2.86895330e+07],\n",
       "       ..., \n",
       "       [  1.63520000e+02,   1.63720000e+02,   1.54320000e+02,\n",
       "          1.54470000e+02,   5.84197000e+07],\n",
       "       [  1.68580000e+02,   1.68690000e+02,   1.60970000e+02,\n",
       "          1.62690000e+02,   7.71057000e+07],\n",
       "       [  1.69570000e+02,   1.71270000e+02,   1.66190000e+02,\n",
       "          1.67460000e+02,   5.55280000e+07]])"
      ]
     },
     "execution_count": 41,
     "metadata": {},
     "output_type": "execute_result"
    }
   ],
   "source": [
    "import xarray as xr\n",
    "data_2 = xr.DataArray(pa)\n",
    "data_2arr = data_2.values # ndim = 3\n",
    "data_2arry = np.array(data_2arr)\n",
    "data_20days = data_2arry[:][0:20][2] # ndim = 2\n",
    "data_20days"
   ]
  },
  {
   "cell_type": "markdown",
   "metadata": {},
   "source": [
    "## 2_3 计算20天收盘价的对数，然后求对数的一天差值，得到对数收益率\n"
   ]
  },
  {
   "cell_type": "code",
   "execution_count": 42,
   "metadata": {},
   "outputs": [],
   "source": [
    "# https://blog.csdn.net/u014281392/article/details/73522237\n",
    "#  首先要如除掉datafram 中无效的股票名称\n",
    "#  取前20 天\n",
    "data_20 =  data.iloc[0:20,:]"
   ]
  },
  {
   "cell_type": "code",
   "execution_count": 43,
   "metadata": {},
   "outputs": [],
   "source": [
    "data['log_market'] = np.log(data_20['close']/data_20['close'].shift(1)) # 这里的对数收益不是array"
   ]
  },
  {
   "cell_type": "markdown",
   "metadata": {
    "collapsed": true
   },
   "source": [
    "#### 还没有做 2.4 这里的题目是只需要三只股票的价格和计算"
   ]
  },
  {
   "cell_type": "markdown",
   "metadata": {},
   "source": [
    "## 3. 用pandas计算滚动的协方差图表显示出来"
   ]
  },
  {
   "cell_type": "markdown",
   "metadata": {},
   "source": [
    "#### 用Pandas计算3只股票的三天收益率"
   ]
  },
  {
   "cell_type": "code",
   "execution_count": 52,
   "metadata": {},
   "outputs": [],
   "source": [
    "import pandas as pd\n",
    "stock1 = pd.read_excel('sz50.xlsx',sheetname='600036.XSHG', index_col='datetime')\n",
    "stock2 = pd.read_excel('sz50.xlsx',sheetname='600050.XSHG', index_col='datetime')\n",
    "stock3 = pd.read_excel('sz50.xlsx',sheetname='601318.XSHG', index_col='datetime')\n",
    "# three_day_change = stock1.close.pct_change(3) # 3 天的收益率函数\n",
    "three_day_df = pd.concat([stock1.close.pct_change(3),stock2.close.pct_change(3),stock3.close.pct_change(3)],keys=['stock1','stock2','stock3'],axis=1)"
   ]
  },
  {
   "cell_type": "code",
   "execution_count": 45,
   "metadata": {},
   "outputs": [
    {
     "name": "stdout",
     "output_type": "stream",
     "text": [
      "                       stock1    stock2    stock3\n",
      "datetime                                         \n",
      "2017-11-14 15:00:00  0.035086 -0.041414  0.061659\n",
      "2017-11-15 15:00:00  0.029902 -0.029087 -0.009838\n",
      "2017-11-16 15:00:00  0.015578 -0.035141  0.040733\n",
      "2017-11-17 15:00:00  0.048565  0.014752  0.068856\n",
      "2017-11-20 15:00:00  0.095011  0.012397  0.094071\n"
     ]
    }
   ],
   "source": [
    "print(three_day_df.tail())"
   ]
  },
  {
   "cell_type": "markdown",
   "metadata": {},
   "source": [
    "### 3_2. 计算滚动窗口为5（NaN需要填满）的协方差"
   ]
  },
  {
   "cell_type": "code",
   "execution_count": 85,
   "metadata": {},
   "outputs": [],
   "source": [
    "cov_3 = three_day_df.rolling(5).cov()\n",
    "# cov_3_1 = cov_3.fillna(method='bfill')\n",
    "where_are_nan = np.isnan(cov_3) \n",
    "cov_3[where_are_nan] = 0 # 将NaN 填满 为 0 "
   ]
  },
  {
   "cell_type": "code",
   "execution_count": 86,
   "metadata": {
    "collapsed": true
   },
   "outputs": [],
   "source": [
    "import matplotlib.pyplot as plt"
   ]
  },
  {
   "cell_type": "code",
   "execution_count": 89,
   "metadata": {},
   "outputs": [
    {
     "data": {
      "text/plain": [
       "<matplotlib.legend.Legend at 0x2869d8977f0>"
      ]
     },
     "execution_count": 89,
     "metadata": {},
     "output_type": "execute_result"
    }
   ],
   "source": [
    "plt.figure(figsize=(15,7))\n",
    "plt.plot(cov_3.unstack()['stock1','stock2'],label='600036.XSHG and 600050.XSHG')\n",
    "plt.legend()\n",
    "#plt.show()"
   ]
  },
  {
   "cell_type": "code",
   "execution_count": 94,
   "metadata": {},
   "outputs": [
    {
     "data": {
      "text/plain": [
       "<matplotlib.legend.Legend at 0x2869c8ed198>"
      ]
     },
     "execution_count": 94,
     "metadata": {},
     "output_type": "execute_result"
    }
   ],
   "source": [
    "plt.figure(figsize=(15,7))\n",
    "plt.plot(cov_3.unstack()['stock1','stock3'],label='600036.XSHG and 601318.XSHG')\n",
    "plt.legend()\n",
    "# plt.show()"
   ]
  },
  {
   "cell_type": "code",
   "execution_count": 93,
   "metadata": {},
   "outputs": [
    {
     "data": {
      "text/plain": [
       "<matplotlib.legend.Legend at 0x2869c1ef6a0>"
      ]
     },
     "execution_count": 93,
     "metadata": {},
     "output_type": "execute_result"
    }
   ],
   "source": [
    "plt.figure(figsize=(15,7))\n",
    "plt.plot(cov_3.unstack()['stock2','stock3'],label='600050.XSHG and 601318.XSHG')\n",
    "plt.legend()\n",
    "# plt.show()"
   ]
  },
  {
   "cell_type": "markdown",
   "metadata": {},
   "source": [
    "### 4 将日K线计算周K线并将其画出来"
   ]
  },
  {
   "cell_type": "markdown",
   "metadata": {},
   "source": [
    "#### 4_1. 读取600036.XSHG的股票日线"
   ]
  },
  {
   "cell_type": "code",
   "execution_count": 102,
   "metadata": {},
   "outputs": [],
   "source": [
    "# 聚合\n",
    "stock1 = pd.read_excel('sz50.xlsx',sheetname='600036.XSHG', index_col='datetime')\n",
    "# https://www.zhihu.com/question/61607343/answer/189318262"
   ]
  },
  {
   "cell_type": "code",
   "execution_count": 103,
   "metadata": {
    "collapsed": true
   },
   "outputs": [],
   "source": [
    "#### 4_2 利用正确的方法将日K线聚合成周K线"
   ]
  },
  {
   "cell_type": "code",
   "execution_count": 121,
   "metadata": {},
   "outputs": [],
   "source": [
    "# resample成周线后用agg获取所需要的数据\n",
    "k_week_stocks = stock1.resample('W').agg({'high':'max','low':'min', 'close':'last', 'open':'first'})\n",
    "from matplotlib.pylab import date2num\n",
    "k_week_stocks ['time'] = list(map(date2num, k_week_stocks.index))\n",
    "k_week_stocks = k_week_stocks.reindex_axis([\"time\", \"open\", \"high\", \"low\", \"close\"], 1).values"
   ]
  },
  {
   "cell_type": "code",
   "execution_count": 122,
   "metadata": {},
   "outputs": [],
   "source": [
    "import matplotlib.finance as mpf"
   ]
  },
  {
   "cell_type": "code",
   "execution_count": 124,
   "metadata": {},
   "outputs": [
    {
     "data": {
      "image/png": "[encoded data removed]",
      "text/plain": [
       "<matplotlib.figure.Figure at 0x2869eecbfd0>"
      ]
     },
     "metadata": {},
     "output_type": "display_data"
    }
   ],
   "source": [
    "fig, (ax,ax1) = plt.subplots(2,1,sharex=True, figsize=(15,25))\n",
    "fig.subplots_adjust(bottom=0.5)\n",
    "ax.grid(True)\n",
    "mpf.candlestick_ohlc(ax, k_week_stocks, width=0.6, colorup='r', colordown='g',alpha=1.0)\n",
    "ax1.bar(stock1.index,stock1.volume)\n",
    "ax.xaxis_date ()\n",
    "plt.show()"
   ]
  },
  {
   "cell_type": "markdown",
   "metadata": {},
   "source": [
    "### 5 用Pandas的递归函数计算EMA与DEMA，对比talib的EMA与DEMA"
   ]
  },
  {
   "cell_type": "markdown",
   "metadata": {},
   "source": [
    "#### 5_11. 根据以上的算法，利用Pandas的ewm方法计算600036.XSHG以10天为周期的EMA，再算出DEMA。"
   ]
  },
  {
   "cell_type": "code",
   "execution_count": 142,
   "metadata": {
    "collapsed": true
   },
   "outputs": [],
   "source": [
    "def EMA(A,n,m):\n",
    "    # 设置alpha的比例\n",
    "    alpha = m/n\n",
    "    #通过ewm计算递归函数\n",
    "    return A.ewm(alpha=alpha, adjust=False).mean()"
   ]
  },
  {
   "cell_type": "code",
   "execution_count": 148,
   "metadata": {},
   "outputs": [],
   "source": [
    "EMA10 = EMA(stock1.close,11,2)"
   ]
  },
  {
   "cell_type": "code",
   "execution_count": 149,
   "metadata": {},
   "outputs": [
    {
     "data": {
      "text/plain": [
       "datetime\n",
       "2017-11-14 15:00:00    109.962034\n",
       "2017-11-15 15:00:00    110.542147\n",
       "2017-11-16 15:00:00    111.244796\n",
       "2017-11-17 15:00:00    113.433683\n",
       "2017-11-20 15:00:00    116.538850\n",
       "Name: close, dtype: float64"
      ]
     },
     "execution_count": 149,
     "metadata": {},
     "output_type": "execute_result"
    }
   ],
   "source": [
    "DEMA = 2*EMA10-EMA(EMA10,11,2)\n",
    "DEMA.tail()"
   ]
  },
  {
   "cell_type": "code",
   "execution_count": 137,
   "metadata": {},
   "outputs": [],
   "source": [
    "import talib as ta"
   ]
  },
  {
   "cell_type": "code",
   "execution_count": 138,
   "metadata": {},
   "outputs": [],
   "source": [
    "DEMA_talib = ta.DEMA(stock1.close, timeperiod=10)"
   ]
  },
  {
   "cell_type": "code",
   "execution_count": 146,
   "metadata": {},
   "outputs": [
    {
     "data": {
      "text/plain": [
       "datetime\n",
       "2017-11-14 15:00:00    109.962034\n",
       "2017-11-15 15:00:00    110.542147\n",
       "2017-11-16 15:00:00    111.244796\n",
       "2017-11-17 15:00:00    113.433683\n",
       "2017-11-20 15:00:00    116.538850\n",
       "dtype: float64"
      ]
     },
     "execution_count": 146,
     "metadata": {},
     "output_type": "execute_result"
    }
   ],
   "source": [
    "DEMA_talib.tail()"
   ]
  },
  {
   "cell_type": "code",
   "execution_count": null,
   "metadata": {
    "collapsed": true
   },
   "outputs": [],
   "source": []
  }
 ],
 "metadata": {
  "kernelspec": {
   "display_name": "Python 3",
   "language": "python",
   "name": "python3"
  },
  "language_info": {
   "codemirror_mode": {
    "name": "ipython",
    "version": 3
   },
   "file_extension": ".py",
   "mimetype": "text/x-python",
   "name": "python",
   "nbconvert_exporter": "python",
   "pygments_lexer": "ipython3",
   "version": "3.6.2"
  }
 },
 "nbformat": 4,
 "nbformat_minor": 2
}
